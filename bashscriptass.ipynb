{
  "nbformat": 4,
  "nbformat_minor": 0,
  "metadata": {
    "colab": {
      "provenance": []
    },
    "kernelspec": {
      "name": "python3",
      "display_name": "Python 3"
    },
    "language_info": {
      "name": "python"
    }
  },
  "cells": [
    {
      "cell_type": "markdown",
      "source": [
        "1."
      ],
      "metadata": {
        "id": "uxQ7BP3dj9jw"
      }
    },
    {
      "cell_type": "code",
      "source": [
        "#!/bin/bash\n",
        "\n",
        "mkdir -p ~/backup\n",
        "\n",
        "for file in *.txt; do\n",
        "    cp \"$file\" ~/backup/\"${file%.txt}_$(date +%Y-%m-%d_%H-%M-%S).txt\"\n",
        "done\n"
      ],
      "metadata": {
        "id": "9OgY3h3RkJrw"
      },
      "execution_count": null,
      "outputs": []
    },
    {
      "cell_type": "markdown",
      "source": [
        "2."
      ],
      "metadata": {
        "id": "12Awbd0BkLiL"
      }
    },
    {
      "cell_type": "code",
      "execution_count": null,
      "metadata": {
        "id": "DOPTZ3gaj4gv"
      },
      "outputs": [],
      "source": [
        "#!/bin/bash\n",
        "\n",
        "cpu=$(top -bn1 | grep \"Cpu(s)\" | awk '{print 100 - $8}')\n",
        "mem=$(free | awk '/Mem/ {printf(\"%.2f\"), $7/$2 * 100}')\n",
        "\n",
        "log=\"system_health.log\"\n",
        "\n",
        "if (( ${cpu%.*} > 80 )); then\n",
        "    echo \"$(date): High CPU usage: $cpu%\" >> $log\n",
        "fi\n",
        "\n",
        "if (( ${mem%.*} < 20 )); then\n",
        "    echo \"$(date): Low memory available: $mem%\" >> $log\n",
        "fi\n"
      ]
    },
    {
      "cell_type": "markdown",
      "source": [
        "3."
      ],
      "metadata": {
        "id": "g2Wsw0YEkUIo"
      }
    },
    {
      "cell_type": "code",
      "source": [
        "#!/bin/bash\n",
        "\n",
        "input=\"user_list.txt\"\n",
        "output=\"credentials.txt\"\n",
        "\n",
        "> $output\n",
        "\n",
        "while read user; do\n",
        "    pass=$(openssl rand -base64 12)\n",
        "    sudo useradd -m \"$user\"\n",
        "    echo \"$user:$pass\" | sudo chpasswd\n",
        "    echo \"$user $pass\" >> $output\n",
        "done < $input\n"
      ],
      "metadata": {
        "id": "q5vwKcchkVGx"
      },
      "execution_count": null,
      "outputs": []
    },
    {
      "cell_type": "markdown",
      "source": [
        "4."
      ],
      "metadata": {
        "id": "Atjm5_U3kejs"
      }
    },
    {
      "cell_type": "code",
      "source": [
        "#!/bin/bash\n",
        "read -p \"Enter directory path: \" dir\n",
        "tar -czf backup_$(date +%F).tar.gz \"$dir\"\n"
      ],
      "metadata": {
        "id": "NfeHYuDKkfrf"
      },
      "execution_count": null,
      "outputs": []
    },
    {
      "cell_type": "markdown",
      "source": [
        "5."
      ],
      "metadata": {
        "id": "XZhffhuDkoBl"
      }
    },
    {
      "cell_type": "code",
      "source": [
        "#!/bin/bash\n",
        "file=\"todo.txt\"\n",
        "case $1 in\n",
        "  add) echo \"$2\" >> $file ;;\n",
        "  view) nl -w2 -s'. ' $file ;;\n",
        "  remove) sed -i \"${2}d\" $file ;;\n",
        "  *) echo \"Usage: $0 {add <task>|view|remove <num>}\" ;;\n",
        "esac\n"
      ],
      "metadata": {
        "id": "Ew3XCFYKkpHT"
      },
      "execution_count": null,
      "outputs": []
    },
    {
      "cell_type": "markdown",
      "source": [
        "6."
      ],
      "metadata": {
        "id": "CZIk1J6iksCK"
      }
    },
    {
      "cell_type": "code",
      "source": [
        "#!/bin/bash\n",
        "input=\"packages.txt\"\n",
        "log=\"install.log\"\n",
        "> $log\n",
        "while read pkg; do\n",
        "    sudo apt-get install -y \"$pkg\" >> $log 2>&1 && \\\n",
        "    echo \"$pkg installed\" >> $log || \\\n",
        "    echo \"$pkg failed\" >> $log\n",
        "done < $input\n"
      ],
      "metadata": {
        "id": "LfAir5CyktKN"
      },
      "execution_count": null,
      "outputs": []
    },
    {
      "cell_type": "markdown",
      "source": [
        "7."
      ],
      "metadata": {
        "id": "arya7n06kvwb"
      }
    },
    {
      "cell_type": "code",
      "source": [
        "#!/bin/bash\n",
        "read -p \"Enter text file: \" file\n",
        "\n",
        "echo \"Lines: $(wc -l < $file)\"\n",
        "echo \"Words: $(wc -w < $file)\"\n",
        "echo \"Chars: $(wc -m < $file)\"\n",
        "echo \"Longest word: $(tr -s '[:space:]' '\\n' < $file | awk '{ if (length > L) { L=length; W=$0 } } END { print W }')\"\n"
      ],
      "metadata": {
        "id": "Y9llltrTkwri"
      },
      "execution_count": null,
      "outputs": []
    }
  ]
}